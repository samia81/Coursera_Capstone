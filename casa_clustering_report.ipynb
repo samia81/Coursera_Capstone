{
    "nbformat_minor": 1, 
    "cells": [
        {
            "source": "# Capstone project : Casablanca clustering ", 
            "cell_type": "markdown", 
            "metadata": {}
        }, 
        {
            "source": "## Table of contents\n1. [Introduction](#introduction)\n2. [Data](#data)\n3. [Methodology](#methodology)\n4. [Analysis](#analysis)\n5. [Results and Discussion](#results)\n6. [Conclusion](#conclusion)", 
            "cell_type": "markdown", 
            "metadata": {}
        }, 
        {
            "source": "\n\n# 1.\tIntroduction<a name=\"introduction\"></a>\n\n## 1.1\tBackground\nFrom a small port at the beginning of the 20th century, to a big city, Casablanca is the largest city in Morocco stretched on the Atlantic coast and located 90 km south of the capital Rabat, this city is considered today as the economic and commercial capital of the Morocco Kingdom.\nCasablanca is the first most populated city in Morocco with approximately 4.75 million inhabitants. It is the third largest city in Africa after Lagos and Cairo.\n\nIndustrial activity is predominant and is a powerful catalyst for the growth and extension of the urban fabric. It dominates the national industrial space by the weight of its production equipment, the diversity of manufactured goods and its place at the top of the hierarchy of industrial centers of the country. Indeed, Casablanca employs 39% of the workforce, accounts for 35% of the country's electricity consumption and absorbs 1,231 million tonnes of cement. The ports of Casablanca and Mohammedia account for 55% of foreign trade. Its airport serves 51% of passengers.\n\nOpening a restaurant is all about location. However, not every restaurant is suitable for every location, and vice versa. It comes down to a combination of restaurant concept and ideal customer. If you can define your restaurant type and identify your target demographic and its most populated areas, you\u2019ll be well on your way to choosing a restaurant location that sets your business up for success.\nUnderstand the customer environment is mandatory before deciding where to open a restaurant. Environment that surrounds your potential restaurant location is all about the neighborhood characteristics: population, schools, industry, market, shopping centers and so on. The neighborhood industries can give an idea about customer income level, age and if there is a large employee pool that can work within your restaurant concept. Is there a college in the area or entertainment options? This can help to determine customer age interval and can show you whether the neighborhoods you\u2019re considering will benefit from future growth. \n\nAnother way to identify where you\u2019ll find your ideal customer type is to look at competing businesses, restaurants often choose to be located next to their fiercest competitors. Existing restaurant types in the neighborhood gives an idea about the customer types also.\nCustomer environment understanding is the best way to understand your customer needs and to determine which style your restaurant falls under : Fast food, Bistro, casual dining, Fine dining \u2026..\n\n## 1.2\tProblem\nIn this project we try to find the optimal location for a restaurant with the concept of collective catering in casablanca city. The catering services can be dedicated to industries employees and college students. This work uses location data of Casablanca neighborhoods to explore and analyses venues categories in each neighborhood and thereafter proposes a clustering of these neighborhoods.\n\nSelect the appropriate features among venues categories to perform the clustering is crucial. Features may include:\n- restaurant concepts: restaurant and coffee related words,\n- Customer type: education and industry related words \n- Population : market and shopping related words\n\nIf we can get demographics data related to each neighborhood, it will be interesting to check if there is a correlation with our data and include it in the model. \nLimitation : latitude and longitude data must be correct and complete otherwise the neighborhood wil not be analysed. \n", 
            "cell_type": "markdown", 
            "metadata": {
                "collapsed": true
            }
        }, 
        {
            "source": "## 2. Data <a name=\"data\"></a>\n## 2.1\tData sources\nThis work addresses three data sources. \n* Casablanca neighborhood data is extracted from the **post referential** (http://codepostal.ma/search_mot.aspx?keyword=casablanca) which includes all postal codes and their neighborhoods of the Moroccan cities. \n\n* To capture geolocation data, **Google Maps API geocoding** is used. This last provides the geographic coordinates: latitude and longitude of each neighborhood by concatenating the city name \u201ccasablanca and the neighborhood \u201cname\u201d. \n\n* The last data source is **Foursquare API** referential to obtain the venues of each neighborhood particularly, the venues number, the venues categories and locations. \n\n## 2.2\tData cleaning\nData are downloaded or scraped from each source then combined into one dataframe. Multiple neighborhood entries exist for the same postal code \nSome missing values for latitude and longitude or wrong location of the neighborhood (outside casablanca) were identified and dropped, to keep just the neighborhoods that contain the correct coordinates.\n", 
            "cell_type": "markdown", 
            "metadata": {}
        }, 
        {
            "source": "", 
            "cell_type": "markdown", 
            "metadata": {}
        }
    ], 
    "nbformat": 4, 
    "metadata": {
        "kernelspec": {
            "display_name": "Python 3.6", 
            "name": "python3", 
            "language": "python"
        }, 
        "language_info": {
            "mimetype": "text/x-python", 
            "nbconvert_exporter": "python", 
            "version": "3.6.8", 
            "name": "python", 
            "pygments_lexer": "ipython3", 
            "file_extension": ".py", 
            "codemirror_mode": {
                "version": 3, 
                "name": "ipython"
            }
        }
    }
}